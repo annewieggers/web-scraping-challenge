{
 "cells": [
  {
   "cell_type": "code",
   "execution_count": 157,
   "metadata": {},
   "outputs": [],
   "source": [
    "from splinter import Browser\n",
    "from bs4 import BeautifulSoup as bs\n",
    "import pandas as pd"
   ]
  },
  {
   "cell_type": "code",
   "execution_count": 158,
   "metadata": {},
   "outputs": [
    {
     "name": "stderr",
     "output_type": "stream",
     "text": [
      "[WDM] - ====== WebDriver manager ======\n"
     ]
    },
    {
     "name": "stdout",
     "output_type": "stream",
     "text": [
      "\n",
      "\n"
     ]
    },
    {
     "name": "stderr",
     "output_type": "stream",
     "text": [
      "[WDM] - Current google-chrome version is 88.0.4324\n",
      "[WDM] - Get LATEST driver version for 88.0.4324\n",
      "[WDM] - Driver [C:\\Users\\wieggan\\.wdm\\drivers\\chromedriver\\win32\\88.0.4324.96\\chromedriver.exe] found in cache\n"
     ]
    }
   ],
   "source": [
    "def init_browser():\n",
    "    executable_path = {'executable_path': ChromeDriverManager().install()}\n",
    "    browser = Browser('chrome', **executable_path, headless=False)"
   ]
  },
  {
   "cell_type": "code",
   "execution_count": null,
   "metadata": {},
   "outputs": [],
   "source": [
    "def scrape_mars:\n",
    "    \n",
    "    browser = init_browser()\n",
    "    \n",
    "    \n",
    "    # Scrape title and paragraph\n",
    "\n",
    "    url1 = \"https://mars.nasa.gov/news/\"\n",
    "    browser.visit(url1)\n",
    "\n",
    "    html = browser.html\n",
    "    soup = bs(html, \"html.parser\")\n",
    "\n",
    "    news_title = soup.find_all('div', class_='content_title')[0].text\n",
    "    news_p = soup.find_all('div', class_='article_teaser_body')[0].text\n",
    "\n",
    "    print(news_title)\n",
    "    print(news_p)\n",
    "    \n",
    "    \n",
    "    # scrape URL\n",
    "\n",
    "    base_url = \"https://www.jpl.nasa.gov/\"\n",
    "    url2 = \"https://www.jpl.nasa.gov/spaceimages/?search=&category=Mars\"\n",
    "    browser.visit(url2)\n",
    "\n",
    "    html = browser.html\n",
    "    soup = bs(html, \"html.parser\")\n",
    "\n",
    "    image_url=soup.find_all('img')[3][\"src\"]\n",
    "\n",
    "    featured_image_url = base_url + image_url\n",
    "    print(featured_image_url)\n",
    "    \n",
    "    \n",
    "    # Scrape facts\n",
    "\n",
    "    url3 = \"https://space-facts.com/mars/\"\n",
    "    browser.visit(url3)\n",
    "\n",
    "    html = browser.html\n",
    "    soup = bs(html, \"html.parser\")\n",
    "\n",
    "    mars_table = pd.read_html(url3)\n",
    "    mars_table\n",
    "\n",
    "    df = mars_table[0]\n",
    "    df\n",
    "\n",
    "    df.columns = [\"Fact\", \"Value\"]\n",
    "    df.set_index(\"Fact\",inplace=True)\n",
    "    df\n",
    "\n",
    "    html_table=df.to_html()\n",
    "    html_table\n",
    "    \n",
    "     # Scrape hemispheres image + url\n",
    "\n",
    "    base_url = \"https://astrogeology.usgs.gov/\"\n",
    "    url4 = \"https://astrogeology.usgs.gov/search/results?q=hemisphere+enhanced&k1=target&v1=Mars\"\n",
    "    browser.visit(url4)\n",
    "\n",
    "    html = browser.html\n",
    "    soup = bs(html, \"html.parser\")\n",
    "\n",
    "    #mars_hem = soup.find(\"div\", class_=\"collapsible results\")\n",
    "    mars_item = soup.find_all(\"div\", class_=\"item\")\n",
    "\n",
    "    # create list for titles and urls\n",
    "    title_url_hem = []\n",
    "\n",
    "    base_url = \"https://astrogeology.usgs.gov\"\n",
    "\n",
    "    for x in mars_item:\n",
    "        #title\n",
    "        title = x.find('h3').text\n",
    "        #print(title)\n",
    "\n",
    "        # URL\n",
    "        img_url = x.find('a')[\"href\"]\n",
    "        browser.visit(base_url + img_url)\n",
    "        html=browser.html\n",
    "        soup=bs(html,'html.parser')\n",
    "        image_src=soup.find('li').a['href']\n",
    "\n",
    "        # populate dictionary  \n",
    "        title_url_hem.append({\"title\" : title, \"URL\" : image_src})\n",
    "\n",
    "    print(title_url_hem)\n",
    "    \n",
    "    # Create dictionary with all scraped data above\n",
    "    mars_dict= {}\n",
    "    mars_dict={\n",
    "    \"news_title\":,\n",
    "    \"news_p\":,\n",
    "    \"featured_image_url\":,\n",
    "    \"html_table\":,\n",
    "    \"title_url_hem\":\n",
    "    }\n",
    "\n",
    " # Close the browser after scraping\n",
    "    browser.quit()\n",
    "    return mars_dict"
   ]
  },
  {
   "cell_type": "code",
   "execution_count": null,
   "metadata": {},
   "outputs": [],
   "source": []
  },
  {
   "cell_type": "code",
   "execution_count": null,
   "metadata": {},
   "outputs": [],
   "source": []
  },
  {
   "cell_type": "code",
   "execution_count": null,
   "metadata": {},
   "outputs": [],
   "source": [
    "\n",
    "   "
   ]
  },
  {
   "cell_type": "code",
   "execution_count": 159,
   "metadata": {},
   "outputs": [],
   "source": []
  },
  {
   "cell_type": "code",
   "execution_count": null,
   "metadata": {},
   "outputs": [],
   "source": []
  }
 ],
 "metadata": {
  "kernelspec": {
   "display_name": "Python [conda env:PythonData] *",
   "language": "python",
   "name": "conda-env-PythonData-py"
  },
  "language_info": {
   "codemirror_mode": {
    "name": "ipython",
    "version": 3
   },
   "file_extension": ".py",
   "mimetype": "text/x-python",
   "name": "python",
   "nbconvert_exporter": "python",
   "pygments_lexer": "ipython3",
   "version": "3.6.10"
  }
 },
 "nbformat": 4,
 "nbformat_minor": 4
}
